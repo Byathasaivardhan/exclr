{
 "cells": [
  {
   "cell_type": "code",
   "execution_count": 1,
   "id": "deed748a-aba5-4daa-9dc0-e58968a94cde",
   "metadata": {},
   "outputs": [
    {
     "name": "stdout",
     "output_type": "stream",
     "text": [
      "Collecting emot\n",
      "  Downloading emot-3.1-py3-none-any.whl.metadata (396 bytes)\n",
      "Downloading emot-3.1-py3-none-any.whl (61 kB)\n",
      "Installing collected packages: emot\n",
      "Successfully installed emot-3.1\n"
     ]
    }
   ],
   "source": [
    "!pip install emot"
   ]
  },
  {
   "cell_type": "code",
   "execution_count": 3,
   "id": "ba1d60ec-650d-46b2-a848-dfef8c33c0c9",
   "metadata": {},
   "outputs": [],
   "source": [
    "text1=\"What are you saving 😂😂.I am the boss😎😎,and why are you so😢\""
   ]
  },
  {
   "cell_type": "code",
   "execution_count": 5,
   "id": "2f478d29-2de4-4dec-b740-66058f40b62a",
   "metadata": {},
   "outputs": [],
   "source": [
    "import re\n",
    "from emot.emo_unicode import UNICODE_EMOJI\n",
    "from emot.emo_unicode import EMOTICONS_EMO"
   ]
  },
  {
   "cell_type": "code",
   "execution_count": 37,
   "id": "121973df-ac88-46e6-a8be-fcdced096b77",
   "metadata": {},
   "outputs": [
    {
     "data": {
      "text/plain": [
       "'What are you saving face_with_tears_of_joyface_with_tears_of_joy.I am the bosssmiling_face_with_sunglassessmiling_face_with_sunglasses,and why are you socrying_face'"
      ]
     },
     "execution_count": 37,
     "metadata": {},
     "output_type": "execute_result"
    }
   ],
   "source": [
    "def converting_emojis(text):\n",
    "    for emot in UNICODE_EMOJI:\n",
    "        text=text.replace(emot,\"_\".join(UNICODE_EMOJI[emot].replace(\",\",\"\")\\\n",
    "                                        .replace(\":\",\"\").split()))\n",
    "    return text\n",
    "    \n",
    "converting_emojis(text1)"
   ]
  },
  {
   "cell_type": "code",
   "execution_count": null,
   "id": "9cca07f8-a444-4316-9194-209027f54122",
   "metadata": {},
   "outputs": [],
   "source": []
  }
 ],
 "metadata": {
  "kernelspec": {
   "display_name": "Python [conda env:base] *",
   "language": "python",
   "name": "conda-base-py"
  },
  "language_info": {
   "codemirror_mode": {
    "name": "ipython",
    "version": 3
   },
   "file_extension": ".py",
   "mimetype": "text/x-python",
   "name": "python",
   "nbconvert_exporter": "python",
   "pygments_lexer": "ipython3",
   "version": "3.12.7"
  }
 },
 "nbformat": 4,
 "nbformat_minor": 5
}
